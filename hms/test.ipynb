{
 "cells": [
  {
   "cell_type": "code",
   "execution_count": 36,
   "metadata": {},
   "outputs": [],
   "source": [
    "from mysql.connector import MySQLConnection, Error\n",
    "\n",
    "def connect_db():\n",
    "    try:\n",
    "        db = MySQLConnection(\n",
    "            user='root',\n",
    "            password='j0shu@7584',\n",
    "            database='hospital',\n",
    "            host='192.168.1.6'\n",
    "        )\n",
    "        if db.is_connected():\n",
    "            print(\"Database connected successfully\")\n",
    "        return db\n",
    "    except Error as e:\n",
    "        print(f\"Error: {e}\")\n",
    "        return None\n",
    "\n",
    "db = connect_db()\n"
   ]
  },
  {
   "cell_type": "code",
   "execution_count": 34,
   "metadata": {},
   "outputs": [],
   "source": [
    "!pip install mysql-connector-python\n"
   ]
  },
  {
   "cell_type": "code",
   "execution_count": 2,
   "metadata": {},
   "outputs": [],
   "source": [
    "from mysql.connector import MySQLConnection, Error"
   ]
  },
  {
   "cell_type": "code",
   "execution_count": 3,
   "metadata": {},
   "outputs": [],
   "source": [
    "from mysql.connector import MySQLConnection,Error"
   ]
  },
  {
   "cell_type": "code",
   "execution_count": 4,
   "metadata": {},
   "outputs": [
    {
     "name": "stdout",
     "output_type": "stream",
     "text": [
      "Requirement already satisfied: mysql in c:\\users\\wayne\\venv\\lib\\site-packages (0.0.3)\n",
      "Requirement already satisfied: mysqlclient in c:\\users\\wayne\\venv\\lib\\site-packages (from mysql) (2.2.5)\n"
     ]
    }
   ],
   "source": [
    "!pip install mysql"
   ]
  },
  {
   "cell_type": "code",
   "execution_count": 7,
   "metadata": {},
   "outputs": [],
   "source": [
    "import base64\n",
    "import mysql.connector\n",
    "from PIL import Image\n",
    "import io"
   ]
  },
  {
   "cell_type": "code",
   "execution_count": 15,
   "metadata": {},
   "outputs": [
    {
     "ename": "ValueError",
     "evalue": "Error decoding Base64 data: Incorrect padding",
     "output_type": "error",
     "traceback": [
      "\u001b[1;31m---------------------------------------------------------------------------\u001b[0m",
      "\u001b[1;31mError\u001b[0m                                     Traceback (most recent call last)",
      "Cell \u001b[1;32mIn[15], line 43\u001b[0m\n\u001b[0;32m     42\u001b[0m     \u001b[38;5;66;03m# Decode Base64 string to binary data\u001b[39;00m\n\u001b[1;32m---> 43\u001b[0m     binary_data \u001b[38;5;241m=\u001b[39m \u001b[43mbase64\u001b[49m\u001b[38;5;241;43m.\u001b[39;49m\u001b[43mb64decode\u001b[49m\u001b[43m(\u001b[49m\u001b[43mimage_data\u001b[49m\u001b[43m)\u001b[49m\n\u001b[0;32m     44\u001b[0m \u001b[38;5;28;01mexcept\u001b[39;00m \u001b[38;5;167;01mException\u001b[39;00m \u001b[38;5;28;01mas\u001b[39;00m e:\n",
      "File \u001b[1;32mc:\\Users\\Wayne\\venv\\lib\\base64.py:87\u001b[0m, in \u001b[0;36mb64decode\u001b[1;34m(s, altchars, validate)\u001b[0m\n\u001b[0;32m     86\u001b[0m     \u001b[38;5;28;01mraise\u001b[39;00m binascii\u001b[38;5;241m.\u001b[39mError(\u001b[38;5;124m'\u001b[39m\u001b[38;5;124mNon-base64 digit found\u001b[39m\u001b[38;5;124m'\u001b[39m)\n\u001b[1;32m---> 87\u001b[0m \u001b[38;5;28;01mreturn\u001b[39;00m \u001b[43mbinascii\u001b[49m\u001b[38;5;241;43m.\u001b[39;49m\u001b[43ma2b_base64\u001b[49m\u001b[43m(\u001b[49m\u001b[43ms\u001b[49m\u001b[43m)\u001b[49m\n",
      "\u001b[1;31mError\u001b[0m: Incorrect padding",
      "\nDuring handling of the above exception, another exception occurred:\n",
      "\u001b[1;31mValueError\u001b[0m                                Traceback (most recent call last)",
      "Cell \u001b[1;32mIn[15], line 45\u001b[0m\n\u001b[0;32m     43\u001b[0m     binary_data \u001b[38;5;241m=\u001b[39m base64\u001b[38;5;241m.\u001b[39mb64decode(image_data)\n\u001b[0;32m     44\u001b[0m \u001b[38;5;28;01mexcept\u001b[39;00m \u001b[38;5;167;01mException\u001b[39;00m \u001b[38;5;28;01mas\u001b[39;00m e:\n\u001b[1;32m---> 45\u001b[0m     \u001b[38;5;28;01mraise\u001b[39;00m \u001b[38;5;167;01mValueError\u001b[39;00m(\u001b[38;5;124mf\u001b[39m\u001b[38;5;124m\"\u001b[39m\u001b[38;5;124mError decoding Base64 data: \u001b[39m\u001b[38;5;132;01m{\u001b[39;00me\u001b[38;5;132;01m}\u001b[39;00m\u001b[38;5;124m\"\u001b[39m)\n\u001b[0;32m     47\u001b[0m \u001b[38;5;66;03m# Convert bytes to PIL image\u001b[39;00m\n\u001b[0;32m     48\u001b[0m \u001b[38;5;28;01mtry\u001b[39;00m:\n",
      "\u001b[1;31mValueError\u001b[0m: Error decoding Base64 data: Incorrect padding"
     ]
    }
   ],
   "source": [
    "import mysql.connector\n",
    "import base64\n",
    "from PIL import Image\n",
    "import io\n",
    "\n",
    "# Database connection\n",
    "try:\n",
    "    mydb = mysql.connector.connect(\n",
    "        host=\"192.168.1.3\",\n",
    "        user=\"root\",\n",
    "        password=\"j0shu@7584\",\n",
    "        database=\"hospital\"\n",
    "    )\n",
    "    cursor = mydb.cursor()\n",
    "except mysql.connector.Error as err:\n",
    "    raise RuntimeError(f\"Error connecting to the database: {err}\")\n",
    "\n",
    "# Prepare and execute the query\n",
    "try:\n",
    "    query = 'SELECT prescription FROM medical_records WHERE patientID=101;'\n",
    "    cursor.execute(query)\n",
    "    data = cursor.fetchall()\n",
    "\n",
    "    if not data:\n",
    "        raise ValueError(\"No data found for the given patientID.\")\n",
    "finally:\n",
    "    cursor.close()\n",
    "    mydb.close()\n",
    "\n",
    "# Decode Base64 data with padding correction\n",
    "image_data = data[0][0]  # The `prescription` column data\n",
    "try:\n",
    "    # Decode bytes to string if necessary\n",
    "    if isinstance(image_data, bytes):\n",
    "        image_data = image_data.decode('utf-8')  # Convert bytes to string\n",
    "\n",
    "    # Calculate the correct padding length\n",
    "    missing_padding = len(image_data) % 4\n",
    "    if missing_padding:\n",
    "        image_data += '=' * (4 - missing_padding)  # Add necessary padding\n",
    "\n",
    "    # Decode Base64 string to binary data\n",
    "    binary_data = base64.b64decode(image_data)\n",
    "except Exception as e:\n",
    "    raise ValueError(f\"Error decoding Base64 data: {e}\")\n",
    "\n",
    "# Convert bytes to PIL image\n",
    "try:\n",
    "    image = Image.open(io.BytesIO(binary_data))\n",
    "    if image.mode == 'RGBA':\n",
    "        image = image.convert('RGB')\n",
    "except Exception as e:\n",
    "    raise ValueError(f\"Error creating image from binary data: {e}\")\n",
    "\n",
    "# Save the image\n",
    "try:\n",
    "    image.save(\"output.jpg\", \"JPEG\")\n",
    "    image.save(\"output.png\", \"PNG\")\n",
    "    print(\"Image saved successfully.\")\n",
    "except Exception as e:\n",
    "    raise ValueError(f\"Error saving image: {e}\")\n"
   ]
  },
  {
   "cell_type": "code",
   "execution_count": 22,
   "metadata": {},
   "outputs": [
    {
     "ename": "ValueError",
     "evalue": "Error decoding Base64 data: Incorrect padding",
     "output_type": "error",
     "traceback": [
      "\u001b[1;31m---------------------------------------------------------------------------\u001b[0m",
      "\u001b[1;31mError\u001b[0m                                     Traceback (most recent call last)",
      "Cell \u001b[1;32mIn[22], line 31\u001b[0m\n\u001b[0;32m     30\u001b[0m \u001b[38;5;66;03m# Decode the Base64 string\u001b[39;00m\n\u001b[1;32m---> 31\u001b[0m i \u001b[38;5;241m=\u001b[39m \u001b[43mbase64\u001b[49m\u001b[38;5;241;43m.\u001b[39;49m\u001b[43mb64decode\u001b[49m\u001b[43m(\u001b[49m\u001b[43mpadded_image_data\u001b[49m\u001b[43m)\u001b[49m\n\u001b[0;32m     32\u001b[0m \u001b[38;5;28mprint\u001b[39m(i)\n",
      "File \u001b[1;32mc:\\Users\\Wayne\\venv\\lib\\base64.py:87\u001b[0m, in \u001b[0;36mb64decode\u001b[1;34m(s, altchars, validate)\u001b[0m\n\u001b[0;32m     86\u001b[0m     \u001b[38;5;28;01mraise\u001b[39;00m binascii\u001b[38;5;241m.\u001b[39mError(\u001b[38;5;124m'\u001b[39m\u001b[38;5;124mNon-base64 digit found\u001b[39m\u001b[38;5;124m'\u001b[39m)\n\u001b[1;32m---> 87\u001b[0m \u001b[38;5;28;01mreturn\u001b[39;00m \u001b[43mbinascii\u001b[49m\u001b[38;5;241;43m.\u001b[39;49m\u001b[43ma2b_base64\u001b[49m\u001b[43m(\u001b[49m\u001b[43ms\u001b[49m\u001b[43m)\u001b[49m\n",
      "\u001b[1;31mError\u001b[0m: Incorrect padding",
      "\nDuring handling of the above exception, another exception occurred:\n",
      "\u001b[1;31mValueError\u001b[0m                                Traceback (most recent call last)",
      "Cell \u001b[1;32mIn[22], line 34\u001b[0m\n\u001b[0;32m     32\u001b[0m     \u001b[38;5;28mprint\u001b[39m(i)\n\u001b[0;32m     33\u001b[0m \u001b[38;5;28;01mexcept\u001b[39;00m \u001b[38;5;167;01mException\u001b[39;00m \u001b[38;5;28;01mas\u001b[39;00m e:\n\u001b[1;32m---> 34\u001b[0m     \u001b[38;5;28;01mraise\u001b[39;00m \u001b[38;5;167;01mValueError\u001b[39;00m(\u001b[38;5;124mf\u001b[39m\u001b[38;5;124m\"\u001b[39m\u001b[38;5;124mError decoding Base64 data: \u001b[39m\u001b[38;5;132;01m{\u001b[39;00me\u001b[38;5;132;01m}\u001b[39;00m\u001b[38;5;124m\"\u001b[39m)\n",
      "\u001b[1;31mValueError\u001b[0m: Error decoding Base64 data: Incorrect padding"
     ]
    }
   ],
   "source": [
    "import mysql.connector\n",
    "import PIL.Image as Image\n",
    "import io\n",
    "import base64\n",
    "mydb = mysql.connector.connect(\n",
    "        host=\"192.168.43.154\",\n",
    "        user=\"root\",\n",
    "        password=\"j0shu@7584\",\n",
    "        database=\"hospital\"\n",
    "    )\n",
    "cursor = mydb.cursor()\n",
    "query = 'SELECT prescription FROM medical_records WHERE patientID=101;'\n",
    "cursor.execute(query)\n",
    "data = cursor.fetchall()\n",
    "\n",
    "# Ensure data is not empty and extract the first row, first column\n",
    "if not data:\n",
    "    raise ValueError(\"No data found for the given patientID.\")\n",
    "\n",
    "image_data = data[0][0]  # Extract the Base64 data\n",
    "\n",
    "try:\n",
    "    # Decode bytes to string if necessary\n",
    "    if isinstance(image_data, bytes):\n",
    "        image_data = image_data.decode('utf-8')  # Convert bytes to string\n",
    "\n",
    "    # Add padding to ensure the length is a multiple of 4\n",
    "    padded_image_data = image_data + '=' * (-len(image_data) % 4)\n",
    "\n",
    "    # Decode the Base64 string\n",
    "    i = base64.b64decode(padded_image_data)\n",
    "    print(i)\n",
    "except Exception as e:\n",
    "    raise ValueError(f\"Error decoding Base64 data: {e}\")\n"
   ]
  },
  {
   "cell_type": "code",
   "execution_count": 14,
   "metadata": {},
   "outputs": [
    {
     "name": "stdout",
     "output_type": "stream",
     "text": [
      "Image saved as output_image.png.\n"
     ]
    },
    {
     "ename": "InternalError",
     "evalue": "Unread result found",
     "output_type": "error",
     "traceback": [
      "\u001b[1;31m---------------------------------------------------------------------------\u001b[0m",
      "\u001b[1;31mInternalError\u001b[0m                             Traceback (most recent call last)",
      "Cell \u001b[1;32mIn[14], line 39\u001b[0m\n\u001b[0;32m     36\u001b[0m             \u001b[38;5;28mprint\u001b[39m(\u001b[38;5;124m\"\u001b[39m\u001b[38;5;124mMySQL connection is closed\u001b[39m\u001b[38;5;124m\"\u001b[39m)\n\u001b[0;32m     38\u001b[0m \u001b[38;5;66;03m# Call the function with the desired output filename\u001b[39;00m\n\u001b[1;32m---> 39\u001b[0m \u001b[43mreadBLOB\u001b[49m\u001b[43m(\u001b[49m\u001b[38;5;124;43m\"\u001b[39;49m\u001b[38;5;124;43mB:\u001b[39;49m\u001b[38;5;124;43m\\\u001b[39;49m\u001b[38;5;124;43mcpp_files\u001b[39;49m\u001b[38;5;124;43m\\\u001b[39;49m\u001b[38;5;124;43mhms\u001b[39;49m\u001b[38;5;124;43m\\\u001b[39;49m\u001b[38;5;124;43mexample.txt\u001b[39;49m\u001b[38;5;124;43m\"\u001b[39;49m\u001b[43m,\u001b[49m\u001b[43m \u001b[49m\u001b[38;5;124;43m'\u001b[39;49m\u001b[38;5;124;43moutput_image.png\u001b[39;49m\u001b[38;5;124;43m'\u001b[39;49m\u001b[43m)\u001b[49m\n",
      "Cell \u001b[1;32mIn[14], line 33\u001b[0m, in \u001b[0;36mreadBLOB\u001b[1;34m(photo, name)\u001b[0m\n\u001b[0;32m     30\u001b[0m     \u001b[38;5;28mprint\u001b[39m(\u001b[38;5;124m\"\u001b[39m\u001b[38;5;124mFailed to read BLOB data from MySQL table \u001b[39m\u001b[38;5;132;01m{}\u001b[39;00m\u001b[38;5;124m\"\u001b[39m\u001b[38;5;241m.\u001b[39mformat(error))\n\u001b[0;32m     32\u001b[0m \u001b[38;5;28;01mfinally\u001b[39;00m:\n\u001b[1;32m---> 33\u001b[0m     \u001b[38;5;28;01mif\u001b[39;00m \u001b[43mconnection\u001b[49m\u001b[38;5;241;43m.\u001b[39;49m\u001b[43mis_connected\u001b[49m\u001b[43m(\u001b[49m\u001b[43m)\u001b[49m:\n\u001b[0;32m     34\u001b[0m         cursor\u001b[38;5;241m.\u001b[39mclose()\n\u001b[0;32m     35\u001b[0m         connection\u001b[38;5;241m.\u001b[39mclose()\n",
      "File \u001b[1;32mc:\\Users\\Wayne\\venv\\lib\\site-packages\\mysql\\connector\\connection_cext.py:391\u001b[0m, in \u001b[0;36mCMySQLConnection.is_connected\u001b[1;34m(self)\u001b[0m\n\u001b[0;32m    389\u001b[0m \u001b[38;5;250m\u001b[39m\u001b[38;5;124;03m\"\"\"Reports whether the connection to MySQL Server is available\"\"\"\u001b[39;00m\n\u001b[0;32m    390\u001b[0m \u001b[38;5;28;01mif\u001b[39;00m \u001b[38;5;28mself\u001b[39m\u001b[38;5;241m.\u001b[39m_cmysql:\n\u001b[1;32m--> 391\u001b[0m     \u001b[38;5;28;43mself\u001b[39;49m\u001b[38;5;241;43m.\u001b[39;49m\u001b[43mhandle_unread_result\u001b[49m\u001b[43m(\u001b[49m\u001b[43m)\u001b[49m\n\u001b[0;32m    392\u001b[0m     \u001b[38;5;28;01mreturn\u001b[39;00m \u001b[38;5;28mself\u001b[39m\u001b[38;5;241m.\u001b[39m_cmysql\u001b[38;5;241m.\u001b[39mping()\n\u001b[0;32m    394\u001b[0m \u001b[38;5;28;01mreturn\u001b[39;00m \u001b[38;5;28;01mFalse\u001b[39;00m\n",
      "File \u001b[1;32mc:\\Users\\Wayne\\venv\\lib\\site-packages\\mysql\\connector\\connection_cext.py:1047\u001b[0m, in \u001b[0;36mCMySQLConnection.handle_unread_result\u001b[1;34m(self, prepared)\u001b[0m\n\u001b[0;32m   1045\u001b[0m     \u001b[38;5;28mself\u001b[39m\u001b[38;5;241m.\u001b[39mconsume_results()\n\u001b[0;32m   1046\u001b[0m \u001b[38;5;28;01melif\u001b[39;00m unread_result:\n\u001b[1;32m-> 1047\u001b[0m     \u001b[38;5;28;01mraise\u001b[39;00m InternalError(\u001b[38;5;124m\"\u001b[39m\u001b[38;5;124mUnread result found\u001b[39m\u001b[38;5;124m\"\u001b[39m)\n",
      "\u001b[1;31mInternalError\u001b[0m: Unread result found"
     ]
    }
   ],
   "source": [
    "def write_file(data, filename):\n",
    "    # Convert binary data to proper format and write it on Hard Disk\n",
    "    with open(filename, 'wb') as file:\n",
    "        file.write(data)\n",
    "\n",
    "def readBLOB(photo, name):\n",
    "    try:\n",
    "        connection = mysql.connector.connect(\n",
    "            host=\"192.168.1.3\",\n",
    "            user=\"root\",\n",
    "            password=\"j0shu@7584\",\n",
    "            database=\"hospital\"\n",
    "        )\n",
    "\n",
    "        cursor = connection.cursor()\n",
    "        sql_fetch_blob_query = \"\"\"SELECT prescription FROM medical_records WHERE patientID=3\"\"\"\n",
    "\n",
    "        cursor.execute(sql_fetch_blob_query)\n",
    "        record = cursor.fetchone()\n",
    "        \n",
    "        # Ensure data is not empty and extract the first row, first column\n",
    "        if record is not None:\n",
    "            binary_data = record[0]  # Get the first element of the tuple\n",
    "            write_file(binary_data, name)  # Pass the binary data to write_file\n",
    "            print(f\"Image saved as {name}.\")\n",
    "        else:\n",
    "            print(\"No data found for the given patientID.\")\n",
    "\n",
    "    except mysql.connector.Error as error:\n",
    "        print(\"Failed to read BLOB data from MySQL table {}\".format(error))\n",
    "\n",
    "    finally:\n",
    "        if connection.is_connected():\n",
    "            cursor.close()\n",
    "            connection.close()\n",
    "            print(\"MySQL connection is closed\")\n",
    "\n",
    "# Call the function with the desired output filename\n",
    "readBLOB(\"B:\\cpp_files\\hms\\example.txt\", 'output_image.png')"
   ]
  },
  {
   "cell_type": "code",
   "execution_count": 15,
   "metadata": {},
   "outputs": [
    {
     "name": "stdout",
     "output_type": "stream",
     "text": [
      "Image saved as output_image.png.\n"
     ]
    },
    {
     "ename": "InternalError",
     "evalue": "Unread result found",
     "output_type": "error",
     "traceback": [
      "\u001b[1;31m---------------------------------------------------------------------------\u001b[0m",
      "\u001b[1;31mInternalError\u001b[0m                             Traceback (most recent call last)",
      "Cell \u001b[1;32mIn[15], line 42\u001b[0m\n\u001b[0;32m     39\u001b[0m             \u001b[38;5;28mprint\u001b[39m(\u001b[38;5;124m\"\u001b[39m\u001b[38;5;124mMySQL connection is closed\u001b[39m\u001b[38;5;124m\"\u001b[39m)\n\u001b[0;32m     41\u001b[0m \u001b[38;5;66;03m# Call the function with the desired output filename\u001b[39;00m\n\u001b[1;32m---> 42\u001b[0m \u001b[43mreadBLOB\u001b[49m\u001b[43m(\u001b[49m\u001b[38;5;124;43m\"\u001b[39;49m\u001b[38;5;124;43mB:\u001b[39;49m\u001b[38;5;124;43m\\\u001b[39;49m\u001b[38;5;124;43mcpp_files\u001b[39;49m\u001b[38;5;124;43m\\\u001b[39;49m\u001b[38;5;124;43mhms\u001b[39;49m\u001b[38;5;124;43m\\\u001b[39;49m\u001b[38;5;124;43mexample.txt\u001b[39;49m\u001b[38;5;124;43m\"\u001b[39;49m\u001b[43m,\u001b[49m\u001b[43m \u001b[49m\u001b[38;5;124;43m'\u001b[39;49m\u001b[38;5;124;43moutput_image.png\u001b[39;49m\u001b[38;5;124;43m'\u001b[39;49m\u001b[43m)\u001b[49m\n",
      "Cell \u001b[1;32mIn[15], line 36\u001b[0m, in \u001b[0;36mreadBLOB\u001b[1;34m(photo, name)\u001b[0m\n\u001b[0;32m     34\u001b[0m \u001b[38;5;28;01mfinally\u001b[39;00m:\n\u001b[0;32m     35\u001b[0m     \u001b[38;5;28;01mif\u001b[39;00m cursor \u001b[38;5;129;01mis\u001b[39;00m \u001b[38;5;129;01mnot\u001b[39;00m \u001b[38;5;28;01mNone\u001b[39;00m:\n\u001b[1;32m---> 36\u001b[0m         \u001b[43mcursor\u001b[49m\u001b[38;5;241;43m.\u001b[39;49m\u001b[43mclose\u001b[49m\u001b[43m(\u001b[49m\u001b[43m)\u001b[49m  \u001b[38;5;66;03m# Ensure cursor is closed\u001b[39;00m\n\u001b[0;32m     37\u001b[0m     \u001b[38;5;28;01mif\u001b[39;00m connection\u001b[38;5;241m.\u001b[39mis_connected():\n\u001b[0;32m     38\u001b[0m         connection\u001b[38;5;241m.\u001b[39mclose()\n",
      "File \u001b[1;32mc:\\Users\\Wayne\\venv\\lib\\site-packages\\mysql\\connector\\cursor_cext.py:521\u001b[0m, in \u001b[0;36mCMySQLCursor.close\u001b[1;34m(self)\u001b[0m\n\u001b[0;32m    518\u001b[0m \u001b[38;5;28;01mif\u001b[39;00m \u001b[38;5;129;01mnot\u001b[39;00m \u001b[38;5;28mself\u001b[39m\u001b[38;5;241m.\u001b[39m_connection:\n\u001b[0;32m    519\u001b[0m     \u001b[38;5;28;01mreturn\u001b[39;00m \u001b[38;5;28;01mFalse\u001b[39;00m\n\u001b[1;32m--> 521\u001b[0m \u001b[38;5;28;43mself\u001b[39;49m\u001b[38;5;241;43m.\u001b[39;49m\u001b[43m_connection\u001b[49m\u001b[38;5;241;43m.\u001b[39;49m\u001b[43mhandle_unread_result\u001b[49m\u001b[43m(\u001b[49m\u001b[43m)\u001b[49m\n\u001b[0;32m    522\u001b[0m \u001b[38;5;28mself\u001b[39m\u001b[38;5;241m.\u001b[39m_warnings \u001b[38;5;241m=\u001b[39m \u001b[38;5;28;01mNone\u001b[39;00m\n\u001b[0;32m    523\u001b[0m \u001b[38;5;28mself\u001b[39m\u001b[38;5;241m.\u001b[39m_connection \u001b[38;5;241m=\u001b[39m \u001b[38;5;28;01mNone\u001b[39;00m\n",
      "File \u001b[1;32mc:\\Users\\Wayne\\venv\\lib\\site-packages\\mysql\\connector\\connection_cext.py:1047\u001b[0m, in \u001b[0;36mCMySQLConnection.handle_unread_result\u001b[1;34m(self, prepared)\u001b[0m\n\u001b[0;32m   1045\u001b[0m     \u001b[38;5;28mself\u001b[39m\u001b[38;5;241m.\u001b[39mconsume_results()\n\u001b[0;32m   1046\u001b[0m \u001b[38;5;28;01melif\u001b[39;00m unread_result:\n\u001b[1;32m-> 1047\u001b[0m     \u001b[38;5;28;01mraise\u001b[39;00m InternalError(\u001b[38;5;124m\"\u001b[39m\u001b[38;5;124mUnread result found\u001b[39m\u001b[38;5;124m\"\u001b[39m)\n",
      "\u001b[1;31mInternalError\u001b[0m: Unread result found"
     ]
    }
   ],
   "source": [
    "import mysql.connector\n",
    "\n",
    "def write_file(data, filename):\n",
    "    # Convert binary data to proper format and write it on Hard Disk\n",
    "    with open(filename, 'wb') as file:\n",
    "        file.write(data)\n",
    "\n",
    "def readBLOB(photo, name):\n",
    "    try:\n",
    "        connection = mysql.connector.connect(\n",
    "            host=\"192.168.1.3\",\n",
    "            user=\"root\",\n",
    "            password=\"j0shu@7584\",\n",
    "            database=\"hospital\"\n",
    "        )\n",
    "\n",
    "        cursor = connection.cursor()\n",
    "        sql_fetch_blob_query = \"\"\"SELECT prescription FROM medical_records WHERE patientID=3\"\"\"\n",
    "\n",
    "        cursor.execute(sql_fetch_blob_query)\n",
    "        record = cursor.fetchone()\n",
    "        \n",
    "        # Ensure data is not empty and extract the first row, first column\n",
    "        if record is not None:\n",
    "            binary_data = record[0]  # Get the first element of the tuple\n",
    "            write_file(binary_data, name)  # Pass the binary data to write_file\n",
    "            print(f\"Image saved as {name}.\")\n",
    "        else:\n",
    "            print(\"No data found for the given patientID.\")\n",
    "\n",
    "    except mysql.connector.Error as error:\n",
    "        print(\"Failed to read BLOB data from MySQL table: {}\".format(error))\n",
    "\n",
    "    finally:\n",
    "        if cursor is not None:\n",
    "            cursor.close()  # Ensure cursor is closed\n",
    "        if connection.is_connected():\n",
    "            connection.close()\n",
    "            print(\"MySQL connection is closed\")\n",
    "\n",
    "# Call the function with the desired output filename\n",
    "readBLOB(\"B:\\cpp_files\\hms\\example.txt\", 'output_image.png')"
   ]
  },
  {
   "cell_type": "code",
   "execution_count": 17,
   "metadata": {},
   "outputs": [
    {
     "name": "stdout",
     "output_type": "stream",
     "text": [
      "Image saved as output_image.png.\n",
      "MySQL connection is closed\n"
     ]
    }
   ],
   "source": [
    "import mysql.connector\n",
    "\n",
    "def write_file(data, filename):\n",
    "    # Convert binary data to proper format and write it on Hard Disk\n",
    "    with open(filename, 'wb') as file:\n",
    "        file.write(data)\n",
    "\n",
    "def readBLOB(photo, name):\n",
    "    connection = None\n",
    "    cursor = None\n",
    "    try:\n",
    "        connection = mysql.connector.connect(\n",
    "            host=\"192.168.1.3\",\n",
    "            user=\"root\",\n",
    "            password=\"j0shu@7584\",\n",
    "            database=\"hospital\"\n",
    "        )\n",
    "\n",
    "        cursor = connection.cursor()\n",
    "        sql_fetch_blob_query = \"\"\"SELECT prescription FROM medical_records WHERE patientID=1\"\"\"\n",
    "\n",
    "        cursor.execute(sql_fetch_blob_query)\n",
    "        record = cursor.fetchone()\n",
    "        \n",
    "        # Ensure data is not empty and extract the first row, first column\n",
    "        if record is not None:\n",
    "            binary_data = record[0]  # Get the first element of the tuple\n",
    "            write_file(binary_data, name)  # Pass the binary data to write_file\n",
    "            print(f\"Image saved as {name}.\")\n",
    "        else:\n",
    "            print(\"No data found for the given patientID.\")\n",
    "\n",
    "    except mysql.connector.Error as error:\n",
    "        print(\"Failed to read BLOB data from MySQL table: {}\".format(error))\n",
    "\n",
    "    finally:\n",
    "        if cursor is not None:\n",
    "            cursor.close()  # Ensure cursor is closed\n",
    "        if connection is not None and connection.is_connected():\n",
    "            connection.close()\n",
    "            print(\"MySQL connection is closed\")\n",
    "\n",
    "# Call the function with the desired output filename\n",
    "readBLOB(\"B:\\cpp_files\\hms\\example.txt\", 'output_image.png')"
   ]
  },
  {
   "cell_type": "code",
   "execution_count": 2,
   "metadata": {},
   "outputs": [
    {
     "name": "stdout",
     "output_type": "stream",
     "text": [
      "Retrieved data is not in bytes format.\n",
      "MySQL connection is closed\n"
     ]
    }
   ],
   "source": [
    "import mysql.connector\n",
    "\n",
    "def write_file(data, filename):\n",
    "    # Convert binary data to proper format and write it on Hard Disk\n",
    "    try:\n",
    "        with open(filename, 'wb') as file:\n",
    "            file.write(data)\n",
    "        print(f\"Image saved as {filename}.\")\n",
    "    except Exception as e:\n",
    "        print(f\"Error writing file {filename}: {e}\")\n",
    "\n",
    "def readBLOB(photo, name):\n",
    "    connection = None\n",
    "    cursor = None\n",
    "    try:\n",
    "        connection = mysql.connector.connect(\n",
    "            host=\"192.168.1.3\",\n",
    "            user=\"root\",\n",
    "            password=\"j0shu@7584\",\n",
    "            database=\"hospital\"\n",
    "        )\n",
    "\n",
    "        cursor = connection.cursor()\n",
    "        sql_fetch_blob_query = \"\"\"SELECT prescription FROM medical_records WHERE patientID=1\"\"\"\n",
    "\n",
    "        cursor.execute(sql_fetch_blob_query)\n",
    "        record = cursor.fetchone()\n",
    "        \n",
    "        # Ensure data is not empty and extract the first row, first column\n",
    "        if record is not None:\n",
    "            binary_data = record  # Get the first element of the tuple\n",
    "            \n",
    "            # Check the type of binary_data\n",
    "            if isinstance(binary_data, bytes):\n",
    "                write_file(binary_data, name)  # Pass the binary data to write_file\n",
    "            else:\n",
    "                print(\"Retrieved data is not in bytes format.\")\n",
    "        else:\n",
    "            print(\"No data found for the given patientID.\")\n",
    "\n",
    "    except mysql.connector.Error as error:\n",
    "        print(\"Failed to read BLOB data from MySQL table: {}\".format(error))\n",
    "\n",
    "    finally:\n",
    "        if cursor is not None:\n",
    "            cursor.close()  # Ensure cursor is closed\n",
    "        if connection is not None and connection.is_connected():\n",
    "            connection.close()\n",
    "            print(\"MySQL connection is closed\")\n",
    "\n",
    "# Call the function with the desired output filename\n",
    "readBLOB(\"\\hms\\prescriptions\", 'output_image.png')"
   ]
  },
  {
   "cell_type": "code",
   "execution_count": 3,
   "metadata": {},
   "outputs": [
    {
     "name": "stdout",
     "output_type": "stream",
     "text": [
      "The directory static/images is writable.\n"
     ]
    }
   ],
   "source": [
    "import os\n",
    "\n",
    "def check_write_permission(directory):\n",
    "    try:\n",
    "        # Try to open a file in write mode in the specified directory\n",
    "        test_file = os.path.join(directory, 'test_file.txt')\n",
    "        with open(test_file, 'w') as f:\n",
    "            f.write(\"Testing write permissions.\")\n",
    "        # If we get here, it means the directory is writable\n",
    "        os.remove(test_file)  # Clean up after the test\n",
    "        print(f\"The directory {directory} is writable.\")\n",
    "    except PermissionError:\n",
    "        print(f\"The directory {directory} is not writable (PermissionError).\")\n",
    "    except Exception as e:\n",
    "        print(f\"An error occurred: {e}\")\n",
    "\n",
    "# Check the static/images directory\n",
    "check_write_permission('static/images')\n"
   ]
  },
  {
   "cell_type": "code",
   "execution_count": 10,
   "metadata": {},
   "outputs": [],
   "source": [
    "import os\n",
    "def write_file(binary_data, name, path):\n",
    "    try:\n",
    "        # Ensure the directory exists\n",
    "        os.makedirs(path, exist_ok=True)  # Create the directory if it doesn't exist\n",
    "        \n",
    "        # Define the full file path\n",
    "        file_path = os.path.join(path, name)\n",
    "        \n",
    "        # Open the file in write-binary mode and save the data\n",
    "        with open(file_path, 'wb') as file:\n",
    "            file.write(binary_data)\n",
    "        \n",
    "        print(f\"File saved to {file_path}\")\n",
    "    except Exception as e:\n",
    "        print(f\"Failed to write file: {e}\")\n",
    "\n",
    "        \n",
    "def readBLOB(name, record_id):\n",
    "    connection = None\n",
    "    cursor = None\n",
    "    try:\n",
    "        # Establish the database connection\n",
    "        connection = mysql.connector.connect(\n",
    "            host=\"192.168.1.3\",\n",
    "            user=\"root\",\n",
    "            password=\"j0shu@7584\",\n",
    "            database=\"hospital\"\n",
    "        )\n",
    "\n",
    "        cursor = connection.cursor()\n",
    "        sql_fetch_blob_query = \"\"\"SELECT prescription FROM medical_records WHERE record_id=%d\"\"\"\n",
    "        \n",
    "        cursor.execute(sql_fetch_blob_query, (record_id))\n",
    "        record = cursor.fetchone()\n",
    "\n",
    "        # Ensure data is not empty and extract the first row, first column\n",
    "        if record is not None:\n",
    "            binary_data = record[0]  # Get the first element of the tuple\n",
    "            \n",
    "            # Check the type of binary_data\n",
    "            if isinstance(binary_data, bytes):\n",
    "                # Pass the binary data to write_file\n",
    "                write_file(binary_data, name, 'static/images')  # Save to the static/images folder\n",
    "            else:\n",
    "                print(\"Retrieved data is not in bytes format.\")\n",
    "        else:\n",
    "            print(\"No data found for the given record_id.\")\n",
    "    except mysql.connector.Error as error:\n",
    "        print(\"Failed to read BLOB data from MySQL table: {}\".format(error))\n",
    "    finally:\n",
    "        if cursor is not None:\n",
    "            cursor.close()  # Ensure cursor is closed\n",
    "        if connection is not None and connection.is_connected():\n",
    "            connection.close()\n",
    "            print(\"MySQL connection is closed\")"
   ]
  },
  {
   "cell_type": "code",
   "execution_count": 19,
   "metadata": {},
   "outputs": [
    {
     "name": "stdout",
     "output_type": "stream",
     "text": [
      "Failed to read BLOB data from MySQL table: 1054 (42S22): Unknown column 'record_id' in 'where clause'\n",
      "MySQL connection is closed\n"
     ]
    }
   ],
   "source": [
    "record_id=[15]\n",
    "name='output_image'+str(record_id)+'.png'\n",
    "readBLOB(name,record_id)"
   ]
  },
  {
   "cell_type": "code",
   "execution_count": null,
   "metadata": {},
   "outputs": [],
   "source": []
  },
  {
   "cell_type": "code",
   "execution_count": null,
   "metadata": {},
   "outputs": [],
   "source": []
  }
 ],
 "metadata": {
  "kernelspec": {
   "display_name": "venv",
   "language": "python",
   "name": "python3"
  },
  "language_info": {
   "codemirror_mode": {
    "name": "ipython",
    "version": 3
   },
   "file_extension": ".py",
   "mimetype": "text/x-python",
   "name": "python",
   "nbconvert_exporter": "python",
   "pygments_lexer": "ipython3",
   "version": "3.10.14"
  }
 },
 "nbformat": 4,
 "nbformat_minor": 2
}
